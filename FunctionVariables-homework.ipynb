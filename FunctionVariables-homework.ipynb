{
 "cells": [
  {
   "cell_type": "code",
   "execution_count": 80,
   "metadata": {},
   "outputs": [
    {
     "name": "stdout",
     "output_type": "stream",
     "text": [
      "La operación elegida es:  potencia\n",
      "El primer número ingresado es:  3\n",
      "El segundo número ingresado es:  3\n",
      "El resultado de la potencia entre 3 y 3 es:  27\n"
     ]
    }
   ],
   "source": [
    "def suma (num1, num2):\n",
    "    return num1 + num2\n",
    "\n",
    "def resta (num1, num2):\n",
    "    return num1 - num2\n",
    "\n",
    "def multiplicacion (num1, num2):\n",
    "    return num1 * num2\n",
    "\n",
    "def division (num1, num2):\n",
    "    return num1 / num2\n",
    "\n",
    "def potencia (num1, num2):\n",
    "    return num1 ** num2\n",
    "\n",
    "operation = eval(input(\"\"\"\n",
    "                  Ingrese el número de la operacion que desea hacer:\n",
    "                  0 --> Suma\n",
    "                  1 --> Resta\n",
    "                  2 --> Multiplicacion\n",
    "                  3 --> Division\n",
    "                  4 --> Potencia\"\"\"))\n",
    "\n",
    "num1 = eval(input(\"Ingresa un número\"))\n",
    "num2 = eval(input(\"Ingresa otro número\"))\n",
    "num1 = int(num1)\n",
    "num2 = int(num2)\n",
    "\n",
    "tupleOperations = (\"suma\", \"resta\", \"multiplicación\", \"division\", \"potencia\")\n",
    "arrayOperations = [suma, resta, multiplicacion, division, potencia]\n",
    "\n",
    "print(\"La operación elegida es: \", tupleOperations[operation])\n",
    "print (\"El primer número ingresado es: \", num1)\n",
    "print (\"El segundo número ingresado es: \", num2)\n",
    "\n",
    "result = arrayOperations[operation](num1, num2)\n",
    "\n",
    "print (\"El resultado de la\", tupleOperations[operation], \"entre\",  num1,  \"y\" , num2 , \"es: \", result)\n"
   ]
  },
  {
   "cell_type": "code",
   "execution_count": null,
   "metadata": {},
   "outputs": [],
   "source": []
  }
 ],
 "metadata": {
  "kernelspec": {
   "display_name": "Python 3",
   "language": "python",
   "name": "python3"
  },
  "language_info": {
   "codemirror_mode": {
    "name": "ipython",
    "version": 3
   },
   "file_extension": ".py",
   "mimetype": "text/x-python",
   "name": "python",
   "nbconvert_exporter": "python",
   "pygments_lexer": "ipython3",
   "version": "3.11.9"
  }
 },
 "nbformat": 4,
 "nbformat_minor": 2
}
